{
 "cells": [
  {
   "cell_type": "code",
   "execution_count": 8,
   "id": "89d57404-40bc-4e28-8150-536a53e05561",
   "metadata": {},
   "outputs": [],
   "source": [
    "import pandas as pd"
   ]
  },
  {
   "cell_type": "code",
   "execution_count": 9,
   "id": "180c1fbd-b85b-46b0-8429-49a179650130",
   "metadata": {},
   "outputs": [],
   "source": [
    "test_data = pd.read_csv('D:datasets/Bandgap_rev/testset/raw/dataset_test.csv')"
   ]
  },
  {
   "cell_type": "code",
   "execution_count": 10,
   "id": "d259b0ce-ea9c-4645-931e-c6abf9d4c13c",
   "metadata": {},
   "outputs": [
    {
     "data": {
      "text/html": [
       "<div>\n",
       "<style scoped>\n",
       "    .dataframe tbody tr th:only-of-type {\n",
       "        vertical-align: middle;\n",
       "    }\n",
       "\n",
       "    .dataframe tbody tr th {\n",
       "        vertical-align: top;\n",
       "    }\n",
       "\n",
       "    .dataframe thead th {\n",
       "        text-align: right;\n",
       "    }\n",
       "</style>\n",
       "<table border=\"1\" class=\"dataframe\">\n",
       "  <thead>\n",
       "    <tr style=\"text-align: right;\">\n",
       "      <th></th>\n",
       "      <th>SMILES</th>\n",
       "      <th>COD ID</th>\n",
       "      <th>Bandgap</th>\n",
       "    </tr>\n",
       "  </thead>\n",
       "  <tbody>\n",
       "    <tr>\n",
       "      <th>0</th>\n",
       "      <td>CCc1c(O)c(=O)ccn1Cc1ccc(C)cc1</td>\n",
       "      <td>2008003</td>\n",
       "      <td>3.253652</td>\n",
       "    </tr>\n",
       "    <tr>\n",
       "      <th>1</th>\n",
       "      <td>CN1C(=O)[C@H]2CC(c3ccoc3)=CC[C@H]2C1=O.CN1C(=O...</td>\n",
       "      <td>4029222</td>\n",
       "      <td>3.635820</td>\n",
       "    </tr>\n",
       "    <tr>\n",
       "      <th>2</th>\n",
       "      <td>O=C(c1cc(C(=O)C(F)(F)F)c2cccccc1-2)C(F)(F)F</td>\n",
       "      <td>2230366</td>\n",
       "      <td>2.021218</td>\n",
       "    </tr>\n",
       "    <tr>\n",
       "      <th>3</th>\n",
       "      <td>ON=Cc1c(O)ccc2ccccc12</td>\n",
       "      <td>2217767</td>\n",
       "      <td>2.296858</td>\n",
       "    </tr>\n",
       "    <tr>\n",
       "      <th>4</th>\n",
       "      <td>C[Ga](c1c(F)c(F)c(F)c(F)c1F)c1c(F)c(F)c(F)c(F)c1F</td>\n",
       "      <td>7113691</td>\n",
       "      <td>3.526148</td>\n",
       "    </tr>\n",
       "    <tr>\n",
       "      <th>...</th>\n",
       "      <td>...</td>\n",
       "      <td>...</td>\n",
       "      <td>...</td>\n",
       "    </tr>\n",
       "    <tr>\n",
       "      <th>1565</th>\n",
       "      <td>CC(=N\\O)/C(C)=N/Cc1ccccn1</td>\n",
       "      <td>8101118</td>\n",
       "      <td>3.333496</td>\n",
       "    </tr>\n",
       "    <tr>\n",
       "      <th>1566</th>\n",
       "      <td>NC(=O)C(C(N)=O)c1ccccc1</td>\n",
       "      <td>2011469</td>\n",
       "      <td>4.173815</td>\n",
       "    </tr>\n",
       "    <tr>\n",
       "      <th>1567</th>\n",
       "      <td>Ic1cccc(I)c1I</td>\n",
       "      <td>2212248</td>\n",
       "      <td>2.575301</td>\n",
       "    </tr>\n",
       "    <tr>\n",
       "      <th>1568</th>\n",
       "      <td>O=C1OC(O)C(Cl)=C1Cl</td>\n",
       "      <td>2105568</td>\n",
       "      <td>3.692166</td>\n",
       "    </tr>\n",
       "    <tr>\n",
       "      <th>1569</th>\n",
       "      <td>Cc1ccc([C@@H]2CN(C)[C@]3(C(=O)Nc4ccccc43)[C@]2...</td>\n",
       "      <td>2235589</td>\n",
       "      <td>2.106938</td>\n",
       "    </tr>\n",
       "  </tbody>\n",
       "</table>\n",
       "<p>1570 rows × 3 columns</p>\n",
       "</div>"
      ],
      "text/plain": [
       "                                                 SMILES   COD ID   Bandgap\n",
       "0                         CCc1c(O)c(=O)ccn1Cc1ccc(C)cc1  2008003  3.253652\n",
       "1     CN1C(=O)[C@H]2CC(c3ccoc3)=CC[C@H]2C1=O.CN1C(=O...  4029222  3.635820\n",
       "2           O=C(c1cc(C(=O)C(F)(F)F)c2cccccc1-2)C(F)(F)F  2230366  2.021218\n",
       "3                                 ON=Cc1c(O)ccc2ccccc12  2217767  2.296858\n",
       "4     C[Ga](c1c(F)c(F)c(F)c(F)c1F)c1c(F)c(F)c(F)c(F)c1F  7113691  3.526148\n",
       "...                                                 ...      ...       ...\n",
       "1565                          CC(=N\\O)/C(C)=N/Cc1ccccn1  8101118  3.333496\n",
       "1566                            NC(=O)C(C(N)=O)c1ccccc1  2011469  4.173815\n",
       "1567                                      Ic1cccc(I)c1I  2212248  2.575301\n",
       "1568                                O=C1OC(O)C(Cl)=C1Cl  2105568  3.692166\n",
       "1569  Cc1ccc([C@@H]2CN(C)[C@]3(C(=O)Nc4ccccc43)[C@]2...  2235589  2.106938\n",
       "\n",
       "[1570 rows x 3 columns]"
      ]
     },
     "execution_count": 10,
     "metadata": {},
     "output_type": "execute_result"
    }
   ],
   "source": [
    "test_data"
   ]
  },
  {
   "cell_type": "code",
   "execution_count": 11,
   "id": "580cc2b3-87f6-4ca7-993d-6a0aacef6c8d",
   "metadata": {},
   "outputs": [],
   "source": [
    "import shutil\n",
    "def filecopy(file, src_folder, dest_folder):\n",
    "    df = pd.read_csv(file)\n",
    "    for codid in df['COD ID'].tolist():\n",
    "        cif = f'{codid}.cif'\n",
    "        shutil.copy(src_folder+cif, dest_folder+cif)"
   ]
  },
  {
   "cell_type": "code",
   "execution_count": 12,
   "id": "ff9b3f82-3def-4a85-8540-f7273a0fae3c",
   "metadata": {},
   "outputs": [
    {
     "name": "stdout",
     "output_type": "stream",
     "text": [
      "CPU times: total: 1.14 s\n",
      "Wall time: 1min 12s\n"
     ]
    }
   ],
   "source": [
    "%%time\n",
    "# Train\n",
    "filecopy('D:datasets/Bandgap_rev/trainset/raw/dataset_train.csv',\n",
    "         'D:datasets/Bandgap_rev/cif/',\n",
    "         'D:datasets/Bandgap_rev/_alignn_train/')\n",
    "\n",
    "# Val\n",
    "filecopy('D:datasets/Bandgap_rev/valset/raw/dataset_val.csv',\n",
    "         'D:datasets/Bandgap_rev/cif/',\n",
    "         'D:datasets/Bandgap_rev/_alignn_val/')\n",
    "\n",
    "# Train\n",
    "filecopy('D:datasets/Bandgap_rev/testset/raw/dataset_test.csv',\n",
    "         'D:datasets/Bandgap_rev/cif/',\n",
    "         'D:datasets/Bandgap_rev/_alignn_test/')"
   ]
  },
  {
   "cell_type": "code",
   "execution_count": 18,
   "id": "9c0ac8cc-6425-4074-b53b-073b1ba81faa",
   "metadata": {},
   "outputs": [],
   "source": [
    "# For ALIGNN\n",
    "def make_id_prop_csv(file, save_folder):\n",
    "    df = pd.read_csv(file)\n",
    "    codids = [f'{codid}.cif' for codid in df['COD ID'].tolist()]\n",
    "    props = df['Bandgap'].tolist()\n",
    "    df = pd.DataFrame(data=[codids, props]).T\n",
    "    df.to_csv(save_folder+'id_prop.csv', header=False, index=False)"
   ]
  },
  {
   "cell_type": "code",
   "execution_count": 19,
   "id": "5b9bd745-95f8-4554-86a1-7f9b1c268b26",
   "metadata": {},
   "outputs": [
    {
     "name": "stdout",
     "output_type": "stream",
     "text": [
      "CPU times: total: 250 ms\n",
      "Wall time: 262 ms\n"
     ]
    }
   ],
   "source": [
    "%%time\n",
    "# Train\n",
    "make_id_prop_csv('D:datasets/Bandgap_rev/trainset/raw/dataset_train.csv',\n",
    "                 'D:datasets/Bandgap_rev/_alignn_train/')\n",
    "\n",
    "# Val\n",
    "make_id_prop_csv('D:datasets/Bandgap_rev/valset/raw/dataset_val.csv',\n",
    "                 'D:datasets/Bandgap_rev/_alignn_val/')\n",
    "\n",
    "# Test\n",
    "make_id_prop_csv('D:datasets/Bandgap_rev/testset/raw/dataset_test.csv',\n",
    "                 'D:datasets/Bandgap_rev/_alignn_test/')"
   ]
  },
  {
   "cell_type": "code",
   "execution_count": 20,
   "id": "71e0cf03-80d0-4bef-ad88-3c5dca8022e1",
   "metadata": {},
   "outputs": [],
   "source": [
    "# Trial for save grammer\n",
    "list1 = [1,2,3]\n",
    "list2 = [4,5,6]\n",
    "df = pd.DataFrame(data = [list1, list2]).T\n",
    "# df.to_csv('./trial.csv', header=False, index=False)"
   ]
  },
  {
   "cell_type": "code",
   "execution_count": null,
   "id": "cf94836c-8c74-4b55-8714-ffe3c96a8643",
   "metadata": {},
   "outputs": [],
   "source": []
  }
 ],
 "metadata": {
  "kernelspec": {
   "display_name": "Python 3 (ipykernel)",
   "language": "python",
   "name": "python3"
  },
  "language_info": {
   "codemirror_mode": {
    "name": "ipython",
    "version": 3
   },
   "file_extension": ".py",
   "mimetype": "text/x-python",
   "name": "python",
   "nbconvert_exporter": "python",
   "pygments_lexer": "ipython3",
   "version": "3.10.0"
  }
 },
 "nbformat": 4,
 "nbformat_minor": 5
}
